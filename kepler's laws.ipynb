{
 "cells": [
  {
   "cell_type": "code",
   "execution_count": 1,
   "id": "0f9e22a0",
   "metadata": {},
   "outputs": [],
   "source": [
    "import numpy as np\n",
    "import matplotlib.pyplot as plt"
   ]
  },
  {
   "cell_type": "code",
   "execution_count": 13,
   "id": "fc13802a",
   "metadata": {},
   "outputs": [],
   "source": [
    "def keplerIII(orbital_period):\n",
    "    semi_major_axis_cubed = orbital_period**2\n",
    "    semi_major_axis = semi_major_axis_cubed**(1/3)\n",
    "    \n",
    "    return semi_major_axis\n",
    "def make_kepler_orbit(eccentricity, orbital_period):\n",
    "    nstep = 1000\n",
    "    trange = np.linspace(0.0, orbital_period, nstep)\n",
    "    \n",
    "    theta = []\n",
    "    for time in trange:\n",
    "        PsiDiff = 1.0\n",
    "        M = 2*np.pi*time/orbital_period\n",
    "        PsiOld = M\n",
    "        theta0old = 180.0\n",
    "        while PsiDiff > 1e-10:\n",
    "            PsiNew = M = eccentricity*np.sin(PsiOld)\n",
    "            PsiDiff = PsiNew - PsiOld\n",
    "        theta0 = 2*np.arctan(((1 + eccentricity)/(1 - eccentricity))**(0.5)*np.tan(PsiOld/2))\n",
    "        theta.append(theta0)\n",
    "    return theta"
   ]
  },
  {
   "cell_type": "code",
   "execution_count": 27,
   "id": "e80accb7",
   "metadata": {},
   "outputs": [],
   "source": [
    "orbital_period = 1.0\n",
    "eccentricity = 0.6"
   ]
  },
  {
   "cell_type": "code",
   "execution_count": 28,
   "id": "129a8dbc",
   "metadata": {},
   "outputs": [],
   "source": [
    "list1 = make_kepler_orbit(eccentricity, orbital_period)"
   ]
  },
  {
   "cell_type": "code",
   "execution_count": 29,
   "id": "6e5bd3ed",
   "metadata": {},
   "outputs": [],
   "source": [
    "def orbit(semimajor_axis,eccentricity,true_anomaly): \n",
    "    r_orbit = semimajor_axis*(1 - eccentricity**2)/(1 + eccentricity*np.cos(true_anomaly))\n",
    "    x_orbit = r_orbit*np.cos(true_anomaly)\n",
    "    y_orbit = r_orbit*np.sin(true_anomaly)\n",
    "     \n",
    "    \n",
    "    return x_orbit,y_orbit"
   ]
  },
  {
   "cell_type": "code",
   "execution_count": 30,
   "id": "6ac1b8b4",
   "metadata": {},
   "outputs": [],
   "source": [
    "semimajor_axis = keplerIII(orbital_period)"
   ]
  },
  {
   "cell_type": "code",
   "execution_count": 31,
   "id": "288ca579",
   "metadata": {},
   "outputs": [],
   "source": [
    "xOrbit, yOrbit = orbit(semimajor_axis,eccentricity,list1)"
   ]
  },
  {
   "cell_type": "code",
   "execution_count": 32,
   "id": "dcd25287",
   "metadata": {},
   "outputs": [
    {
     "data": {
      "image/png": "[encoded data removed]",
      "text/plain": [
       "<Figure size 432x288 with 1 Axes>"
      ]
     },
     "metadata": {
      "needs_background": "light"
     },
     "output_type": "display_data"
    }
   ],
   "source": [
    "plt.title('Earth orbit')\n",
    "plt.scatter(0,0, color='orange')\n",
    "plt.scatter(xOrbit,yOrbit)\n",
    "plt.axis('equal')\n",
    "plt.xlabel('x position [au]')\n",
    "plt.ylabel('y position [au]')\n",
    "plt.show()"
   ]
  },
  {
   "cell_type": "code",
   "execution_count": 1,
   "id": "60c21b3a",
   "metadata": {},
   "outputs": [],
   "source": [
    "from scipy.integrate import quad\n",
    "import time"
   ]
  },
  {
   "cell_type": "code",
   "execution_count": 2,
   "id": "99157b8c",
   "metadata": {},
   "outputs": [],
   "source": [
    "def f(x):\n",
    "    return np.exp(x**2)*np.sin(x)**2"
   ]
  },
  {
   "cell_type": "code",
   "execution_count": null,
   "id": "19575ced",
   "metadata": {},
   "outputs": [],
   "source": [
    "x = np.linspace(-3, 3, 100)"
   ]
  },
  {
   "cell_type": "code",
   "execution_count": null,
   "id": "b1412e25",
   "metadata": {},
   "outputs": [],
   "source": [
    "plt.plot(f(x))"
   ]
  }
 ],
 "metadata": {
  "kernelspec": {
   "display_name": "Python 3 (ipykernel)",
   "language": "python",
   "name": "python3"
  },
  "language_info": {
   "codemirror_mode": {
    "name": "ipython",
    "version": 3
   },
   "file_extension": ".py",
   "mimetype": "text/x-python",
   "name": "python",
   "nbconvert_exporter": "python",
   "pygments_lexer": "ipython3",
   "version": "3.9.12"
  }
 },
 "nbformat": 4,
 "nbformat_minor": 5
}
