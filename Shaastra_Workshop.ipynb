{
 "cells": [
  {
   "cell_type": "code",
   "execution_count": null,
   "id": "24f2bd94",
   "metadata": {},
   "outputs": [],
   "source": [
    "import numpy as np\n",
    "import matplotlib.pyplot as plt\n",
    "import scipy as sp\n",
    "from scipy.misc import derivative\n",
    "from scipy.integrate import quad\n",
    "from scipy.integrate import cumulative_trapezoid"
   ]
  },
  {
   "cell_type": "markdown",
   "id": "257c19a5",
   "metadata": {},
   "source": [
    "# Numpy"
   ]
  },
  {
   "cell_type": "markdown",
   "id": "3757053b",
   "metadata": {},
   "source": [
    "Creating array"
   ]
  },
  {
   "cell_type": "code",
   "execution_count": null,
   "id": "a8350502",
   "metadata": {},
   "outputs": [],
   "source": [
    "a1 = np.array([4, 5, 1, 7])"
   ]
  },
  {
   "cell_type": "code",
   "execution_count": null,
   "id": "e9d67dc7",
   "metadata": {},
   "outputs": [],
   "source": [
    "a2 = np.zeros(10) #creates an array of zeros#"
   ]
  },
  {
   "cell_type": "code",
   "execution_count": null,
   "id": "6a27d27b",
   "metadata": {},
   "outputs": [],
   "source": [
    "a3 = np.ones(10) #creates an array of ones#"
   ]
  },
  {
   "cell_type": "code",
   "execution_count": null,
   "id": "09098595",
   "metadata": {},
   "outputs": [],
   "source": [
    "a4 = np.random.random(10) #creates an array random numbers#"
   ]
  },
  {
   "cell_type": "code",
   "execution_count": null,
   "id": "416f7470",
   "metadata": {},
   "outputs": [],
   "source": [
    "a5 = np.random.randn(10)#creates an array random numbers in gaussian distribution with mean = 0 and sd = 1#"
   ]
  },
  {
   "cell_type": "code",
   "execution_count": null,
   "id": "06585bff",
   "metadata": {},
   "outputs": [],
   "source": [
    "a6 = np.linspace(0,10,100)#creates an array from 0 to 10 with 100 equal steps#"
   ]
  },
  {
   "cell_type": "code",
   "execution_count": null,
   "id": "c878fbe0",
   "metadata": {},
   "outputs": [],
   "source": [
    "a7 = np.arange(0, 10, 0.05)#creates an array from 0 to 10 with equal spaces of 0.05#"
   ]
  },
  {
   "cell_type": "markdown",
   "id": "85b1601f",
   "metadata": {},
   "source": [
    "Array Operations"
   ]
  },
  {
   "cell_type": "code",
   "execution_count": null,
   "id": "5d90d530",
   "metadata": {},
   "outputs": [],
   "source": [
    "2*a3"
   ]
  },
  {
   "cell_type": "code",
   "execution_count": null,
   "id": "086e0a5d",
   "metadata": {},
   "outputs": [],
   "source": [
    "1/a1 + 1"
   ]
  },
  {
   "cell_type": "code",
   "execution_count": null,
   "id": "f9da571b",
   "metadata": {},
   "outputs": [],
   "source": [
    "a1>4# returns a boolean array#"
   ]
  },
  {
   "cell_type": "code",
   "execution_count": null,
   "id": "038161a9",
   "metadata": {},
   "outputs": [],
   "source": [
    "x = np.linspace(0, 100, 10)\n",
    "y = x**2"
   ]
  },
  {
   "cell_type": "code",
   "execution_count": null,
   "id": "48dd5ec2",
   "metadata": {},
   "outputs": [],
   "source": [
    "plt.plot(x, y)"
   ]
  },
  {
   "cell_type": "code",
   "execution_count": null,
   "id": "4b12f88e",
   "metadata": {},
   "outputs": [],
   "source": [
    "plt.hist(a4)"
   ]
  },
  {
   "cell_type": "code",
   "execution_count": null,
   "id": "fbd76e51",
   "metadata": {},
   "outputs": [],
   "source": [
    "def f(x):\n",
    "    return x**2*np.sin(x)/np.exp(-x)"
   ]
  },
  {
   "cell_type": "code",
   "execution_count": null,
   "id": "c442aac6",
   "metadata": {},
   "outputs": [],
   "source": [
    "plt.plot(f(a7))"
   ]
  },
  {
   "cell_type": "markdown",
   "id": "c546b32c",
   "metadata": {},
   "source": [
    "Array Indexing and Slicing"
   ]
  },
  {
   "cell_type": "code",
   "execution_count": null,
   "id": "bb8bfbf5",
   "metadata": {},
   "outputs": [],
   "source": [
    "a1[2]"
   ]
  },
  {
   "cell_type": "code",
   "execution_count": null,
   "id": "98fba85d",
   "metadata": {},
   "outputs": [],
   "source": [
    "a1[2:]"
   ]
  },
  {
   "cell_type": "code",
   "execution_count": null,
   "id": "dded62cf",
   "metadata": {},
   "outputs": [],
   "source": [
    "a1[:-2]"
   ]
  },
  {
   "cell_type": "code",
   "execution_count": null,
   "id": "752dbc13",
   "metadata": {},
   "outputs": [],
   "source": [
    "a1[1:-2]"
   ]
  },
  {
   "cell_type": "code",
   "execution_count": null,
   "id": "abb6ad9a",
   "metadata": {},
   "outputs": [],
   "source": [
    "a1[a1>3]"
   ]
  },
  {
   "cell_type": "code",
   "execution_count": null,
   "id": "0db9e460",
   "metadata": {},
   "outputs": [],
   "source": [
    "a1[a1%4 == 0]"
   ]
  },
  {
   "cell_type": "markdown",
   "id": "12f9d4c3",
   "metadata": {},
   "source": [
    "Statistical Function"
   ]
  },
  {
   "cell_type": "code",
   "execution_count": null,
   "id": "c7a09671",
   "metadata": {},
   "outputs": [],
   "source": [
    "f1 = 5*np.random.randn(10000) +10"
   ]
  },
  {
   "cell_type": "code",
   "execution_count": null,
   "id": "ba9f4f5d",
   "metadata": {},
   "outputs": [],
   "source": [
    "np.mean(f1)"
   ]
  },
  {
   "cell_type": "code",
   "execution_count": null,
   "id": "3f4c11eb",
   "metadata": {},
   "outputs": [],
   "source": [
    "np.std(f1)"
   ]
  },
  {
   "cell_type": "code",
   "execution_count": null,
   "id": "3b54685f",
   "metadata": {},
   "outputs": [],
   "source": [
    "np.percentile(f1, 50)"
   ]
  },
  {
   "cell_type": "markdown",
   "id": "a0a54d6e",
   "metadata": {},
   "source": [
    "Calculus Function"
   ]
  },
  {
   "cell_type": "code",
   "execution_count": null,
   "id": "740abd43",
   "metadata": {},
   "outputs": [],
   "source": [
    "x = np.linspace(1, 10, 100)\n",
    "y = 1/x**2*np.sin(x)"
   ]
  },
  {
   "cell_type": "code",
   "execution_count": null,
   "id": "6c59e826",
   "metadata": {},
   "outputs": [],
   "source": [
    "dydx = np.gradient(y, x)"
   ]
  },
  {
   "cell_type": "code",
   "execution_count": null,
   "id": "1e21ff74",
   "metadata": {},
   "outputs": [],
   "source": [
    "i = np.cumsum(y*(x[1]-x[0])) #cumulative sum of y multiplied with dx"
   ]
  },
  {
   "cell_type": "code",
   "execution_count": null,
   "id": "37d0386d",
   "metadata": {},
   "outputs": [],
   "source": [
    "plt.plot(x, y)\n",
    "plt.plot(x, dydx)\n",
    "plt.plot(x, i)"
   ]
  },
  {
   "cell_type": "markdown",
   "id": "51462c7a",
   "metadata": {},
   "source": [
    "Let $y = \\mathrm{e}^{{\\left(\\frac{-x}{10}\\right)}}\\sin{x} $\n",
    "\n",
    "Consider 10000 in the range of 0 to 10.\n",
    "Plot y vs x.\n",
    "Create an array of points between the range of x = [6,9].\n",
    "Compute the mean and standard deviation of y for x in the range [4,7]."
   ]
  },
  {
   "cell_type": "markdown",
   "id": "4d744f7a",
   "metadata": {},
   "source": [
    "# Matplotlib"
   ]
  },
  {
   "cell_type": "code",
   "execution_count": null,
   "id": "f1700860",
   "metadata": {},
   "outputs": [],
   "source": [
    "x = np.linspace(0, 15, 30)\n",
    "y = np.sin(x) + 0.1*np.random.randn(len(x))#random.radn to add little bit of noise"
   ]
  },
  {
   "cell_type": "code",
   "execution_count": null,
   "id": "0cfd5e47",
   "metadata": {},
   "outputs": [],
   "source": [
    "plt.plot(x,y)"
   ]
  },
  {
   "cell_type": "code",
   "execution_count": null,
   "id": "bf9867ee",
   "metadata": {},
   "outputs": [],
   "source": [
    "plt.plot(x,y, 'o--', color = 'blue', lw = 1, ms = 5)\n",
    "# we can have different signs for data and interpolated line.\n",
    "#We can change color, line width (lw) and marker size(ms)"
   ]
  },
  {
   "cell_type": "code",
   "execution_count": null,
   "id": "f27a04d8",
   "metadata": {},
   "outputs": [],
   "source": [
    "plt.figure(figsize = (8, 3))\n",
    "plt.plot(x, y)\n",
    "#We can adjust the plot size"
   ]
  },
  {
   "cell_type": "code",
   "execution_count": null,
   "id": "048d11a6",
   "metadata": {},
   "outputs": [],
   "source": [
    "plt.figure(figsize = (6,3))\n",
    "plt.plot(x, y)\n",
    "plt.xlabel('Time in [s]', fontsize=14) # We can label the axes using these\n",
    "plt.ylabel('Voltage in [V]', fontsize = 14)\n",
    "plt.title('Voltage vs Time graph')\n",
    "plt.show()"
   ]
  },
  {
   "cell_type": "code",
   "execution_count": null,
   "id": "66b8d258",
   "metadata": {},
   "outputs": [],
   "source": [
    "plt.figure(figsize = (6,3))\n",
    "plt.plot(x, y, label = 'Compoment 1')\n",
    "plt.xlabel('Time in s', fontsize=14)\n",
    "plt.ylabel('Voltage in V', fontsize = 14)\n",
    "plt.title('Voltage vs Time graph')\n",
    "plt.legend(loc = 'lower right', fontsize = 11)#To change the location of the label\n",
    "plt.show()"
   ]
  },
  {
   "cell_type": "code",
   "execution_count": null,
   "id": "b0c910a8",
   "metadata": {},
   "outputs": [],
   "source": [
    "x2 = np.linspace(0, 15, 100)\n",
    "y2 = np.sin(x2)"
   ]
  },
  {
   "cell_type": "code",
   "execution_count": null,
   "id": "8c71505d",
   "metadata": {},
   "outputs": [],
   "source": [
    "plt.figure(figsize = (6,3))\n",
    "plt.plot(x, y, 'o', label = 'Data', zorder = 100)\n",
    "plt.plot(x2, y2, label = 'Fit')# having two functions in the same plot\n",
    "plt.xlabel('Time in s', fontsize=14)\n",
    "plt.ylabel('Voltage in V', fontsize = 14)\n",
    "plt.title('Voltage vs Time graph')\n",
    "plt.legend(loc = 'lower right', fontsize = 11)\n",
    "plt.show()"
   ]
  },
  {
   "cell_type": "code",
   "execution_count": null,
   "id": "ee7e03e7",
   "metadata": {},
   "outputs": [],
   "source": [
    "plt.figure(figsize = (6,3))\n",
    "plt.plot(x, y, 'o', label = 'Data', zorder = 100)\n",
    "plt.plot(x2, y2, label = 'Fit')\n",
    "plt.xlabel('Time in s', fontsize=14)\n",
    "plt.ylabel('Voltage in V', fontsize = 14)\n",
    "plt.title('Voltage vs Time graph')\n",
    "plt.legend(loc = 'upper right', fontsize = 11, ncol = 2)\n",
    "plt.ylim(top = 2)#to make more space for the legend\n",
    "plt.show()"
   ]
  },
  {
   "cell_type": "markdown",
   "id": "044bfa31",
   "metadata": {},
   "source": [
    "Histogram"
   ]
  },
  {
   "cell_type": "code",
   "execution_count": null,
   "id": "3543fb71",
   "metadata": {},
   "outputs": [],
   "source": [
    "val = np.random.randn(1000)*0.2 + 0.4"
   ]
  },
  {
   "cell_type": "code",
   "execution_count": null,
   "id": "9ac08d03",
   "metadata": {},
   "outputs": [],
   "source": [
    "plt.figure(figsize = (8, 3))\n",
    "plt.hist(val)\n",
    "plt.show()"
   ]
  },
  {
   "cell_type": "code",
   "execution_count": null,
   "id": "44e216f7",
   "metadata": {},
   "outputs": [],
   "source": [
    "plt.figure(figsize = (8, 3))\n",
    "plt.hist((val), bins = 100)#To change the bins\n",
    "plt.show()"
   ]
  },
  {
   "cell_type": "code",
   "execution_count": null,
   "id": "3a38da7f",
   "metadata": {},
   "outputs": [],
   "source": [
    "val2 = np.random.randn(1000)*0.2 + 0.4"
   ]
  },
  {
   "cell_type": "code",
   "execution_count": null,
   "id": "334a0221",
   "metadata": {},
   "outputs": [],
   "source": [
    "plt.figure(figsize = (8, 3))\n",
    "plt.hist((val), bins = 30, density = True, histtype = 'step')#to  plot only the top of the bars\n",
    "plt.hist((val2), bins = 30, density = True, histtype = 'step')\n",
    "plt.show() \n",
    "# to normalise the histigram such that the area under the curve"
   ]
  },
  {
   "cell_type": "markdown",
   "id": "4a7a7196",
   "metadata": {},
   "source": [
    "Multiple plots in a figure "
   ]
  },
  {
   "cell_type": "code",
   "execution_count": null,
   "id": "4aba2884",
   "metadata": {},
   "outputs": [],
   "source": [
    "fig, ax = plt.subplots(1, 1, figsize = (8, 3))\n",
    "ax.plot(x, y, 'o--', color = 'red', lw = 2, ms = 3)\n",
    "ax.text(0.1, 0.1, 'text here', transform = ax.transAxes)\n",
    "ax.set_xlabel('Time in s', fontsize=14)\n",
    "ax.set_ylabel('Voltage in V', fontsize = 14)\n",
    "plt.show()"
   ]
  },
  {
   "cell_type": "code",
   "execution_count": null,
   "id": "83b5f231",
   "metadata": {},
   "outputs": [],
   "source": [
    "fig, axes = plt.subplots(2, 2, figsize = (8, 8))\n",
    "ax = axes[0][0]\n",
    "ax.plot(x, y, 'o--', color = 'red', lw = 2, ms = 3)\n",
    "ax.text(0.1, 0.1, 'text here', transform = ax.transAxes)\n",
    "\n",
    "ax = axes[0][1]\n",
    "ax.hist((val2), bins = 30, density = True, histtype = 'step')\n",
    "\n",
    "ax = axes[1][0]\n",
    "ax.hist((val), bins = 30, density = True, histtype = 'step')\n",
    "\n",
    "ax = axes[1][1]\n",
    "ax.hist((val), bins = 30, density = True, histtype = 'step')\n",
    "ax.hist((val2), bins = 30, density = True, histtype = 'step')\n",
    "ax.set_xlabel('Time in s', fontsize=11)\n",
    "ax.set_ylabel('Voltage in V', fontsize = 11)\n",
    "ax.legend()\n",
    "fig.suptitle('All plots', y = 1.03, fontsize = 25)\n",
    "plt.show()"
   ]
  },
  {
   "cell_type": "markdown",
   "id": "253dcfae",
   "metadata": {},
   "source": [
    "Exercise"
   ]
  },
  {
   "cell_type": "markdown",
   "id": "6249cda4",
   "metadata": {},
   "source": [
    "Use the following data\n",
    "res_a1 = 0.2*np.random.randn(1000)+0.4\n",
    "res_b1 = 0.27*np.random.randn(1000)+0.4\n",
    "res_a2 = 0.25*np.random.randn(1000)+0.5\n",
    "res_b2 = 0.26*np.random.randn(1000)+0.5\n",
    "\n",
    "Find the 50 percentile and 75 percentile of res_a1 and res_b1 and plot it in 2 different plot\n",
    "FInd the median of res_a1 and res_a2 and plot it in the same plot. similarly do for res_b1 and res_b2"
   ]
  },
  {
   "cell_type": "markdown",
   "id": "f62beaa9",
   "metadata": {},
   "source": [
    "# Scipy"
   ]
  },
  {
   "cell_type": "markdown",
   "id": "de23fda5",
   "metadata": {},
   "source": [
    "# Derivative"
   ]
  },
  {
   "cell_type": "code",
   "execution_count": null,
   "id": "c65314ce",
   "metadata": {},
   "outputs": [],
   "source": [
    "tdata = np.genfromtxt('./test.csv', delimiter = \",\").transpose()"
   ]
  },
  {
   "cell_type": "code",
   "execution_count": null,
   "id": "543876a2",
   "metadata": {},
   "outputs": [],
   "source": [
    "plt.plot(tdata, 'o--')"
   ]
  },
  {
   "cell_type": "code",
   "execution_count": null,
   "id": "2b62da92",
   "metadata": {},
   "outputs": [],
   "source": [
    "dxdy = np.gradient(tdata[1], tdata[0])"
   ]
  },
  {
   "cell_type": "code",
   "execution_count": null,
   "id": "30b2e54b",
   "metadata": {},
   "outputs": [],
   "source": [
    "def extrema(x, y):\n",
    "    minx = []\n",
    "    maxx = []\n",
    "    for i in range(1, l-1):\n",
    "        if (y[i-1] <= y[i]) and (y[i] >= y[i+1]):\n",
    "            maxx.append(x[i])\n",
    "        elif (y[i-1] >= y[i]) and (y[i] <= y[i+1]):\n",
    "            minx.append(x[i])\n",
    "    return [minx, maxx]"
   ]
  },
  {
   "cell_type": "code",
   "execution_count": null,
   "id": "ba335316",
   "metadata": {},
   "outputs": [],
   "source": [
    "exts = extrema(tdata[0], tdata[1])\n",
    "exts = exts[0] + exts[1]"
   ]
  },
  {
   "cell_type": "code",
   "execution_count": null,
   "id": "b3b7d772",
   "metadata": {},
   "outputs": [],
   "source": [
    "fig, ax = plt.subplots()\n",
    "\n",
    "ax.plot(tdata[0], tdata[1], 'r-', label = \"data\")\n",
    "ax.plot(tdata[0], dydx, 'b-', label = \"derivative\")\n",
    "ax.axhline(y = 0, xmin=min(tdata[0]), xmax=max(tdata[0]), color='gray')\n",
    "for _ in exts:\n",
    "    ax.axvline(x = _, color = \"gray\", ls=\"--\")\n",
    "plt.legend(loc = 'upper right', fontsize = 11, ncol = 2)\n",
    "plt.ylim(top = 2)\n",
    "plt.show()"
   ]
  },
  {
   "cell_type": "markdown",
   "id": "bdcba1f2",
   "metadata": {},
   "source": [
    "## Integration"
   ]
  },
  {
   "cell_type": "code",
   "execution_count": null,
   "id": "027dcdce",
   "metadata": {},
   "outputs": [],
   "source": [
    "data = np.genfromtxt('./test.csv', delimiter = ',').transpose()\n",
    "x, y = data"
   ]
  },
  {
   "cell_type": "code",
   "execution_count": null,
   "id": "54611e11",
   "metadata": {},
   "outputs": [],
   "source": [
    "plt.plot(x, y)\n",
    "plt.xlabel('Time [ns]')\n",
    "plt.ylabel('Current [mA]')\n",
    "plt.show()"
   ]
  },
  {
   "cell_type": "code",
   "execution_count": null,
   "id": "006d9849",
   "metadata": {},
   "outputs": [],
   "source": [
    "integral = cumulative_trapezoid(y, x, initial = 0)#cumulative sum"
   ]
  },
  {
   "cell_type": "code",
   "execution_count": null,
   "id": "d3750044",
   "metadata": {},
   "outputs": [],
   "source": [
    "plt.plot(x, integral)\n",
    "plt.xlabel('Time [ns]')\n",
    "plt.ylabel('Integrated Current [mA]')\n",
    "plt.show()"
   ]
  },
  {
   "cell_type": "markdown",
   "id": "f526ce20",
   "metadata": {},
   "source": [
    "# ODE"
   ]
  },
  {
   "cell_type": "code",
   "execution_count": null,
   "id": "13509de3",
   "metadata": {},
   "outputs": [],
   "source": [
    "def dvdt(t, v):#independent variable comes first\n",
    "    return 3*v - 5# a = 3, and b = 5\n",
    "v0 = 0"
   ]
  },
  {
   "cell_type": "code",
   "execution_count": null,
   "id": "0c50e962",
   "metadata": {},
   "outputs": [],
   "source": [
    "t = np.linspace(0, 1, 100)"
   ]
  },
  {
   "cell_type": "code",
   "execution_count": null,
   "id": "0b68f3de",
   "metadata": {},
   "outputs": [],
   "source": [
    "sol_m1 = odeint(dvdt, y0=v0, t=t, tfirst = True)\n",
    "#(f(x), range of time limit, initial conditions, time array)"
   ]
  },
  {
   "cell_type": "code",
   "execution_count": null,
   "id": "7e4879bf",
   "metadata": {},
   "outputs": [],
   "source": [
    "sol_m1"
   ]
  },
  {
   "cell_type": "code",
   "execution_count": null,
   "id": "8df9c2ab",
   "metadata": {},
   "outputs": [],
   "source": [
    "sol_m1.T[0]"
   ]
  },
  {
   "cell_type": "code",
   "execution_count": null,
   "id": "abb25828",
   "metadata": {},
   "outputs": [],
   "source": [
    "v_sol1 = sol_m1.T[0]"
   ]
  },
  {
   "cell_type": "code",
   "execution_count": null,
   "id": "1e0bff9e",
   "metadata": {},
   "outputs": [],
   "source": [
    "sol_m2 = solve_ivp(dvdt, t_span = (0, max(t)), y0=[v0], t_eval = t)"
   ]
  },
  {
   "cell_type": "code",
   "execution_count": null,
   "id": "92ceab3b",
   "metadata": {},
   "outputs": [],
   "source": [
    "sol_m2"
   ]
  },
  {
   "cell_type": "code",
   "execution_count": null,
   "id": "c7d60538",
   "metadata": {},
   "outputs": [],
   "source": [
    "sol_m2.y[0]"
   ]
  },
  {
   "cell_type": "code",
   "execution_count": null,
   "id": "2d6105b9",
   "metadata": {},
   "outputs": [],
   "source": [
    "v_sol2 = sol_m2.y[0]"
   ]
  },
  {
   "cell_type": "code",
   "execution_count": null,
   "id": "abe9f300",
   "metadata": {},
   "outputs": [],
   "source": [
    "plt.plot(t, v_sol1)\n",
    "plt.plot(t, v_sol2, '--')\n",
    "plt.xlabel('$v(t)$')\n",
    "plt.xlabel('$t$')\n",
    "plt.show()"
   ]
  }
 ],
 "metadata": {
  "kernelspec": {
   "display_name": "Python 3 (ipykernel)",
   "language": "python",
   "name": "python3"
  },
  "language_info": {
   "codemirror_mode": {
    "name": "ipython",
    "version": 3
   },
   "file_extension": ".py",
   "mimetype": "text/x-python",
   "name": "python",
   "nbconvert_exporter": "python",
   "pygments_lexer": "ipython3",
   "version": "3.9.12"
  }
 },
 "nbformat": 4,
 "nbformat_minor": 5
}
